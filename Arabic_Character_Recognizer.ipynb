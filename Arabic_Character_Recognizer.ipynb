{
  "nbformat": 4,
  "nbformat_minor": 0,
  "metadata": {
    "colab": {
      "name": "Arabic Character Recognizer.ipynb",
      "provenance": []
    },
    "kernelspec": {
      "name": "python3",
      "display_name": "Python 3"
    },
    "language_info": {
      "name": "python"
    }
  },
  "cells": [
    {
      "cell_type": "markdown",
      "metadata": {
        "id": "S0DeHIXTeKeX"
      },
      "source": [
        "#Arabic Character Recognition"
      ]
    },
    {
      "cell_type": "markdown",
      "metadata": {
        "id": "AA3gJ22lrUcR"
      },
      "source": [
        "##Overview\n",
        "This notebook builds an OCR for handwritten Arabic letters, research in OCR or optical character recognition started a long time ago in order to allow the computer to understand the words in any visual image, but the peak in OCR performances did happen in the deep learning era as it introduced advanced methods and techniques in order to achieve the OCR's outstanding outcomes and uses. \n",
        "The dataset used will be from Benha University, and the CNN will be build using Keras from TensorFlow."
      ]
    },
    {
      "cell_type": "markdown",
      "metadata": {
        "id": "sRXloTWAt7lc"
      },
      "source": [
        "##Dataset\n",
        "The data-set is composed of 16,800 characters written by 60 participants, the age range is between 19 to 40 years, and 90% of participants are right-hand. Each participant wrote each character (from ’alef’ to ’yeh’) ten times on two forms as shown in Fig. 7(a) & 7(b). The forms were scanned at the resolution of 300 dpi. Each block is segmented automatically using Matlab 2016a to determining the coordinates for each block. The database is partitioned into two sets: a training set (13,440 characters to 480 images per class) and a test set (3,360 characters to 120 images per class). Writers of training set and test set are exclusive. Ordering of including writers to test set are randomized to make sure that writers of test set are not from a single institution (to ensure variability of the test set).\n",
        "\n",
        "https://www.kaggle.com/mloey1/ahcd1"
      ]
    },
    {
      "cell_type": "markdown",
      "metadata": {
        "id": "KQxIa73_5Y1p"
      },
      "source": [
        "## Data Exploring & Preprocessing"
      ]
    },
    {
      "cell_type": "markdown",
      "metadata": {
        "id": "p7EgfTVy5ck3"
      },
      "source": [
        "1- Let's import our libraries that we will use in this project."
      ]
    },
    {
      "cell_type": "code",
      "metadata": {
        "id": "6YXIBfocHmj5"
      },
      "source": [
        "import tensorflow as tf                                                         # The main framework we will build our model with.\n",
        "import numpy as np                                                              # Used for mathimatical operations.\n",
        "import pandas as pd                                                             # Will be used to load our data frame.\n",
        "import cv2                                                                      # Used for image processing.\n",
        "from matplotlib import pyplot as plt                                            # Used for plottin our data.\n",
        "from tensorflow.keras.utils import to_categorical                               # Utility in Tensorflow to convert our true category values."
      ],
      "execution_count": 1,
      "outputs": []
    },
    {
      "cell_type": "markdown",
      "metadata": {
        "id": "keUYyJezeH3q"
      },
      "source": [
        "2- Now we wil mount google drive for loading our data."
      ]
    },
    {
      "cell_type": "code",
      "metadata": {
        "colab": {
          "base_uri": "https://localhost:8080/"
        },
        "id": "SCo4zIAkH54h",
        "outputId": "39a77dce-412f-4da4-e8f0-bd0ef4d8abad"
      },
      "source": [
        "from google.colab import drive                                                  \n",
        "drive.mount('/content/gdrive')"
      ],
      "execution_count": 2,
      "outputs": [
        {
          "output_type": "stream",
          "name": "stdout",
          "text": [
            "Mounted at /content/gdrive\n"
          ]
        }
      ]
    },
    {
      "cell_type": "markdown",
      "metadata": {
        "id": "uVFM9Wl96eDq"
      },
      "source": [
        "3- We will use Pandas library to read our data and load it into our data frame, our data is stored in CSV format so we will use the appropriate function to load it."
      ]
    },
    {
      "cell_type": "code",
      "metadata": {
        "id": "sm43wmpBH7UU"
      },
      "source": [
        "path = '/content/gdrive/MyDrive/Datasets/Kaggle Arabic Characters'              # Here we specify the path to our data location on my drive\n",
        "train_data_x = pd.read_csv(path + '/csvTrainImages 13440x1024.csv', header=None)# Then we load the training images.\n",
        "train_data_y = pd.read_csv(path + '/csvTrainLabel 13440x1.csv', header=None)    # Training labels.\n",
        "test_data_x = pd.read_csv(path + '/csvTestImages 3360x1024.csv', header=None)   # Testing images.\n",
        "test_data_y = pd.read_csv(path + '/csvTestLabel 3360x1.csv', header=None)       # Testing labels."
      ],
      "execution_count": 3,
      "outputs": []
    },
    {
      "cell_type": "markdown",
      "metadata": {
        "id": "RTOr2zmRCFKW"
      },
      "source": [
        "4- Now let's examine our data properties.\n",
        "\n",
        "We will find that we have 13440 training image with their labels in the training set and 3360 in the testing set, along with a total of 28 classes which idecates the number of Arabic letters.\n",
        "\n",
        "The number of pixels in each image is 1024, so we can conclude the pixels per image by getting the square root of the number of pixels which will give us 32, so the dimensions of our image is 32x32x1 as it is a grey scale image, we will use this piece of information for preprocessing our images."
      ]
    },
    {
      "cell_type": "code",
      "metadata": {
        "colab": {
          "base_uri": "https://localhost:8080/"
        },
        "id": "ShNnODiZ7Tdx",
        "outputId": "2ae84b6a-21c6-42a1-abb5-e8ad5bce2158"
      },
      "source": [
        "print('We have  %d training images each contains %d pixels.' %(train_data_x.shape[0], train_data_x.shape[1]))\n",
        "print('We have  %d training labels each contains %d classes.' %(train_data_y.shape[0], len(train_data_y.value_counts())))\n",
        "print('We have  %d testing images each contains %d pixels.' %(test_data_x.shape[0], test_data_x.shape[1]))\n",
        "print('We have  %d testing labels each contains %d classes.' %(test_data_y.shape[0], len(test_data_y.value_counts())))"
      ],
      "execution_count": 92,
      "outputs": [
        {
          "output_type": "stream",
          "name": "stdout",
          "text": [
            "We have  13440 training images each contains 1024 pixels.\n",
            "We have  13440 training labels each contains 28 classes.\n",
            "We have  3360 testing images each contains 1024 pixels.\n",
            "We have  3360 testing labels each contains 28 classes.\n"
          ]
        }
      ]
    },
    {
      "cell_type": "markdown",
      "metadata": {
        "id": "DXYb_1aPCryC"
      },
      "source": [
        "We notice also that there are 480 image per class, and there is also a very important note that we should put into consideration, the classes start from 1 to 28, but for our classifer we would like our classes to be from 0 to 27, we will use this piece of information in preprocessing the labels. "
      ]
    },
    {
      "cell_type": "code",
      "metadata": {
        "colab": {
          "base_uri": "https://localhost:8080/"
        },
        "id": "fp9GRUSHCoqC",
        "outputId": "4d795047-3862-42b8-eb13-de92a30ad350"
      },
      "source": [
        "train_data_y.value_counts()"
      ],
      "execution_count": 93,
      "outputs": [
        {
          "output_type": "execute_result",
          "data": {
            "text/plain": [
              "28    480\n",
              "27    480\n",
              "2     480\n",
              "3     480\n",
              "4     480\n",
              "5     480\n",
              "6     480\n",
              "7     480\n",
              "8     480\n",
              "9     480\n",
              "10    480\n",
              "11    480\n",
              "12    480\n",
              "13    480\n",
              "14    480\n",
              "15    480\n",
              "16    480\n",
              "17    480\n",
              "18    480\n",
              "19    480\n",
              "20    480\n",
              "21    480\n",
              "22    480\n",
              "23    480\n",
              "24    480\n",
              "25    480\n",
              "26    480\n",
              "1     480\n",
              "dtype: int64"
            ]
          },
          "metadata": {},
          "execution_count": 93
        }
      ]
    },
    {
      "cell_type": "markdown",
      "metadata": {
        "id": "i4SWelXGHU5l"
      },
      "source": [
        "Let's see what our images looks like."
      ]
    },
    {
      "cell_type": "code",
      "metadata": {
        "colab": {
          "base_uri": "https://localhost:8080/",
          "height": 486
        },
        "id": "tHrDRNcRIPXI",
        "outputId": "d52de0a2-401d-4383-d2f3-7cbec3ca0090"
      },
      "source": [
        "fig = plt.figure(figsize=(8, 8))                                                # Setting the figure size.\n",
        "columns = 4                                                                     # Selecting the number of columns.\n",
        "rows = 5                                                                        # Selectin the number of rows.\n",
        "for i in range(1, columns*rows +1):                                             # Looping through rows & columns.\n",
        "  img = test_data_x.iloc[i].to_numpy().reshape((32,32))                         # Reshaping the image into its size 32x32\n",
        "  fig.add_subplot(rows, columns, i)                                             # Adding the image to the plot\n",
        "  plt.imshow(img, cmap='gray')                                                  # Showing the image using plt\n",
        "plt.show()                                                                      # Finally shpwing the whole plot containing all the subplots"
      ],
      "execution_count": 96,
      "outputs": [
        {
          "output_type": "display_data",
          "data": {
            "image/png": "[encoded data removed]",
            "text/plain": [
              "<Figure size 576x576 with 20 Axes>"
            ]
          },
          "metadata": {
            "needs_background": "light"
          }
        }
      ]
    },
    {
      "cell_type": "markdown",
      "metadata": {
        "id": "HKhMF-oJ7NFQ"
      },
      "source": [
        "5- Now we define a function for us to preprocess the data,\n",
        "\n",
        "We will start with reshaping the image to be with the size of 32x32, so that the training array will be of size of #imagesx32x32, then we will pass through each image to flip and rotate them as they are rotated, then we will reshape the entire array with the #imagex32x32x1, and the 1 stands for our grey scale images, lastly we will normalize our images by dividing by 255 for pixels normalization."
      ]
    },
    {
      "cell_type": "code",
      "metadata": {
        "id": "DFLrl6e_IGR2"
      },
      "source": [
        "def preprocess_data(train_data_x):\n",
        "  train_data_x = train_data_x.to_numpy().reshape((train_data_x.shape[0], 32, 32)).astype('uint8')\n",
        "  for i in range(len(train_data_x)):\n",
        "    train_data_x[i] = cv2.rotate(train_data_x[i], cv2.ROTATE_90_CLOCKWISE)      # Rotating the images.\n",
        "    train_data_x[i] = np.flip(train_data_x[i], 1)                               # Flipping the images\n",
        "  train_data_x = train_data_x.reshape([-1, 32, 32, 1]).astype('uint8')          # Reshaping into the required size.\n",
        "  train_data_x = train_data_x.astype('float32')/255                             # Here we normalize our images.\n",
        "  return np.asarray(train_data_x)"
      ],
      "execution_count": 4,
      "outputs": []
    },
    {
      "cell_type": "code",
      "metadata": {
        "id": "CO9pCdPXODj6"
      },
      "source": [
        "train_x = preprocess_data(train_data_x)                                         # Returns an array of dimensions (13440,32,32,1).\n",
        "test_x = preprocess_data(test_data_x)                                           # Returns an array of dimensions (3360,32,32,1)."
      ],
      "execution_count": 5,
      "outputs": []
    },
    {
      "cell_type": "markdown",
      "metadata": {
        "id": "3lHMkOB9FbFF"
      },
      "source": [
        "6- Now we preprocess our labels by converting them to the categorcal form.\n",
        "\n",
        "Note: we subtracted one from the values of the labels we so get our classes values in the form of 0-27 as we mentioned earlier."
      ]
    },
    {
      "cell_type": "code",
      "metadata": {
        "id": "q59S-Grzin2E"
      },
      "source": [
        "train_y = to_categorical(train_data_y.values.astype('int32') - 1                # Returns an array of dimentions (13340, 28).\n",
        "                         , num_classes=28)\n",
        "test_y = to_categorical(test_data_y.values.astype('int32') - 1                  # Returns an array of dimentions (3360, 28).\n",
        "                        , num_classes=28)"
      ],
      "execution_count": 6,
      "outputs": []
    },
    {
      "cell_type": "markdown",
      "metadata": {
        "id": "76OB6dpkG2Ku"
      },
      "source": [
        "7- We will now shuffle our training and test sets as we will get better results than using the data's classes in sequential form."
      ]
    },
    {
      "cell_type": "code",
      "metadata": {
        "id": "Vr-MGeBgrsTN"
      },
      "source": [
        "from sklearn.utils import shuffle                                               # Importing shuffle function from sklearn library.\n",
        "train_x, train_y = shuffle(train_x, train_y)                                    # Now we shuffle x & y in the training set.\n",
        "test_x, test_y, shuffle(test_x, test_y)                                         # Then x & y in our testing set."
      ],
      "execution_count": null,
      "outputs": []
    },
    {
      "cell_type": "markdown",
      "metadata": {
        "id": "D5HOU_HZITMP"
      },
      "source": [
        "## Building Model"
      ]
    },
    {
      "cell_type": "markdown",
      "metadata": {
        "id": "cgwL5WP4eXwR"
      },
      "source": [
        "8- We will now create our model's architecture, \n",
        "\n",
        "We will use keras for the creation of our model, we will start by creating a function for use to create our model, we will set the activation, optimizer and our initializing method as variables for us to easly modifiy it in the hyper-parameter tuning phase.\n",
        "\n",
        "We will start by creating our first convolutional layer and setting up the input shape, we will create additional pooling layer along with a batch normalization layer, then we will add three convolutional layers with the same structure but the the double size of filters each layer.\n",
        "\n",
        "Then we will flatten our layer preparing it for the fully connected layers, we will use a small neurons numbered layer with a drop out layer, batch normalization and we will add an L2 regularizer so we will control the overfitting."
      ]
    },
    {
      "cell_type": "code",
      "metadata": {
        "id": "-Utu1cNKOL_j"
      },
      "source": [
        "def create_model(activation='relu', optimizer='adam', kernel_initializer='he_normal'):\n",
        "  model = tf.keras.models.Sequential([\n",
        "      tf.keras.layers.Conv2D(32, (3,3), padding='same', input_shape=(32, 32, 1), activation= activation, kernel_initializer=kernel_initializer),\n",
        "      tf.keras.layers.MaxPool2D(2,2),\n",
        "      tf.keras.layers.BatchNormalization(),\n",
        "      tf.keras.layers.Conv2D(64, (3,3), padding='same', activation= activation, kernel_initializer=kernel_initializer),\n",
        "      tf.keras.layers.MaxPool2D(2,2),\n",
        "      tf.keras.layers.Dropout(0.2),\n",
        "      tf.keras.layers.BatchNormalization(),\n",
        "      tf.keras.layers.Conv2D(128, (3,3), padding='same', activation= activation, kernel_initializer=kernel_initializer),\n",
        "      tf.keras.layers.MaxPool2D(2,2),\n",
        "      tf.keras.layers.Dropout(0.2),\n",
        "      tf.keras.layers.BatchNormalization(),\n",
        "\n",
        "      tf.keras.layers.Flatten(),\n",
        "      \n",
        "      tf.keras.layers.Dense(32, activation= activation, kernel_initializer=kernel_initializer, kernel_regularizer='l2'),\n",
        "      tf.keras.layers.BatchNormalization(),\n",
        "      tf.keras.layers.Dropout(0.2),\n",
        "      tf.keras.layers.Dense(28, activation= 'softmax', kernel_initializer=kernel_initializer)\n",
        "  ])\n",
        "\n",
        "  model.compile(optimizer=optimizer,\n",
        "                loss='categorical_crossentropy',\n",
        "                metrics=['accuracy'])\n",
        "  return model"
      ],
      "execution_count": 45,
      "outputs": []
    },
    {
      "cell_type": "code",
      "metadata": {
        "colab": {
          "base_uri": "https://localhost:8080/"
        },
        "id": "mU_Zu7dd_DEf",
        "outputId": "7dda50de-a611-4d33-e327-750876d85dff"
      },
      "source": [
        "model = create_model()                                                          # Now we created an instance of a model with our custom architefture.\n",
        "model.summary()                                                                 # Then we display our model's summary."
      ],
      "execution_count": 46,
      "outputs": [
        {
          "output_type": "stream",
          "name": "stdout",
          "text": [
            "Model: \"sequential_11\"\n",
            "_________________________________________________________________\n",
            "Layer (type)                 Output Shape              Param #   \n",
            "=================================================================\n",
            "conv2d_33 (Conv2D)           (None, 32, 32, 32)        320       \n",
            "_________________________________________________________________\n",
            "max_pooling2d_33 (MaxPooling (None, 16, 16, 32)        0         \n",
            "_________________________________________________________________\n",
            "batch_normalization_37 (Batc (None, 16, 16, 32)        128       \n",
            "_________________________________________________________________\n",
            "conv2d_34 (Conv2D)           (None, 16, 16, 64)        18496     \n",
            "_________________________________________________________________\n",
            "max_pooling2d_34 (MaxPooling (None, 8, 8, 64)          0         \n",
            "_________________________________________________________________\n",
            "dropout_32 (Dropout)         (None, 8, 8, 64)          0         \n",
            "_________________________________________________________________\n",
            "batch_normalization_38 (Batc (None, 8, 8, 64)          256       \n",
            "_________________________________________________________________\n",
            "conv2d_35 (Conv2D)           (None, 8, 8, 128)         73856     \n",
            "_________________________________________________________________\n",
            "max_pooling2d_35 (MaxPooling (None, 4, 4, 128)         0         \n",
            "_________________________________________________________________\n",
            "dropout_33 (Dropout)         (None, 4, 4, 128)         0         \n",
            "_________________________________________________________________\n",
            "batch_normalization_39 (Batc (None, 4, 4, 128)         512       \n",
            "_________________________________________________________________\n",
            "flatten_11 (Flatten)         (None, 2048)              0         \n",
            "_________________________________________________________________\n",
            "dense_27 (Dense)             (None, 32)                65568     \n",
            "_________________________________________________________________\n",
            "batch_normalization_40 (Batc (None, 32)                128       \n",
            "_________________________________________________________________\n",
            "dropout_34 (Dropout)         (None, 32)                0         \n",
            "_________________________________________________________________\n",
            "dense_28 (Dense)             (None, 28)                924       \n",
            "=================================================================\n",
            "Total params: 160,188\n",
            "Trainable params: 159,676\n",
            "Non-trainable params: 512\n",
            "_________________________________________________________________\n"
          ]
        }
      ]
    },
    {
      "cell_type": "markdown",
      "metadata": {
        "id": "VHKs776RWUQN"
      },
      "source": [
        "9- Let's start selecting the best hyperparamters for our model, we will do this by performing grid parameter tuning, which indicates performing all the possible combinations for our hyperparameters, then selecting the combination by selecting the best model."
      ]
    },
    {
      "cell_type": "code",
      "metadata": {
        "colab": {
          "base_uri": "https://localhost:8080/"
        },
        "id": "CFUUZXhMWOTx",
        "outputId": "fa201f7f-24a6-452f-a2f5-a91942ade16e"
      },
      "source": [
        "seed = 7                                                                        # Select a fixed seed\n",
        "np.random.seed(seed)                                                            # Specifing the seed for our random generator\n",
        "\n",
        "optimizer = ['RMSprop', 'Adam', 'Adagrad', 'Nadam']                             # Available optimizers\n",
        "kernel_initializer = ['normal', 'uniform']                                      # Available initializing methods\n",
        "activation = ['relu', 'linear', 'tanh']                                         # Available activation functions\n",
        "\n",
        "param_grid = dict(optimizer=optimizer,                                          # Creating the grid\n",
        "                  kernel_initializer=kernel_initializer,\n",
        "                  activation=activation)\n",
        "\n",
        "parameters_number = 1\n",
        "for x in param_grid:\n",
        "  parameters_number = parameters_number * len(param_grid[x]) \n",
        "print(\"Number of different parameter combinations = {}\".format(parameters_number))"
      ],
      "execution_count": 97,
      "outputs": [
        {
          "output_type": "stream",
          "name": "stdout",
          "text": [
            "Number of different parameter combinations = 24\n"
          ]
        }
      ]
    },
    {
      "cell_type": "code",
      "metadata": {
        "colab": {
          "base_uri": "https://localhost:8080/"
        },
        "id": "5KrL1wuCWTku",
        "outputId": "5a3f6c6a-76a4-48e6-f2fc-e26750c68753"
      },
      "source": [
        "epochs = 5                                                                      # Specifing the number of epochs for each combination\n",
        "batch_size = 64                                                                 # Setting the batch size\n",
        "\n",
        "# Here we will create our different models and run them for 5 epochs each.\n",
        "for a,b,c in [(x,y,z) for x in optimizer for z in activation for y in kernel_initializer]:\n",
        "    params = {'optimizer' : a , 'kernel_initializer' : b , 'activation' : c}\n",
        "    print(params)\n",
        "    curr_model = create_model(optimizer=a, kernel_initializer=b, activation=c)\n",
        "    curr_model.fit(train_x, train_y, \n",
        "                    validation_split=0.3,\n",
        "                    epochs=epochs, batch_size=batch_size, verbose=1)\n",
        "    print(\"=============================================================================\")"
      ],
      "execution_count": 100,
      "outputs": [
        {
          "output_type": "stream",
          "name": "stdout",
          "text": [
            "{'optimizer': 'RMSprop', 'kernel_initializer': 'normal', 'activation': 'relu'}\n",
            "Epoch 1/5\n",
            "147/147 [==============================] - 15s 91ms/step - loss: 7.0349 - accuracy: 0.3186 - val_loss: 6.3231 - val_accuracy: 0.0449\n",
            "Epoch 2/5\n",
            "147/147 [==============================] - 13s 90ms/step - loss: 2.5613 - accuracy: 0.6649 - val_loss: 4.9608 - val_accuracy: 0.0370\n",
            "Epoch 3/5\n",
            "147/147 [==============================] - 13s 90ms/step - loss: 1.4419 - accuracy: 0.7851 - val_loss: 4.4508 - val_accuracy: 0.0856\n",
            "Epoch 4/5\n",
            "147/147 [==============================] - 13s 89ms/step - loss: 1.1330 - accuracy: 0.8256 - val_loss: 3.3168 - val_accuracy: 0.1982\n",
            "Epoch 5/5\n",
            "147/147 [==============================] - 13s 89ms/step - loss: 0.9872 - accuracy: 0.8490 - val_loss: 1.1609 - val_accuracy: 0.7946\n",
            "=============================================================================\n",
            "{'optimizer': 'RMSprop', 'kernel_initializer': 'uniform', 'activation': 'relu'}\n",
            "Epoch 1/5\n",
            "147/147 [==============================] - 15s 91ms/step - loss: 3.5339 - accuracy: 0.4205 - val_loss: 4.6654 - val_accuracy: 0.0315\n",
            "Epoch 2/5\n",
            "147/147 [==============================] - 13s 90ms/step - loss: 1.4958 - accuracy: 0.7534 - val_loss: 5.9046 - val_accuracy: 0.0315\n",
            "Epoch 3/5\n",
            "147/147 [==============================] - 13s 89ms/step - loss: 1.0943 - accuracy: 0.8162 - val_loss: 7.1408 - val_accuracy: 0.0370\n",
            "Epoch 4/5\n",
            "147/147 [==============================] - 13s 90ms/step - loss: 0.9868 - accuracy: 0.8457 - val_loss: 4.8902 - val_accuracy: 0.0551\n",
            "Epoch 5/5\n",
            "147/147 [==============================] - 13s 89ms/step - loss: 0.8980 - accuracy: 0.8611 - val_loss: 1.7631 - val_accuracy: 0.5665\n",
            "=============================================================================\n",
            "{'optimizer': 'RMSprop', 'kernel_initializer': 'normal', 'activation': 'linear'}\n",
            "Epoch 1/5\n",
            "147/147 [==============================] - 14s 88ms/step - loss: 5.8387 - accuracy: 0.4228 - val_loss: 6.0179 - val_accuracy: 0.0372\n",
            "Epoch 2/5\n",
            "147/147 [==============================] - 13s 86ms/step - loss: 2.0958 - accuracy: 0.6682 - val_loss: 5.4397 - val_accuracy: 0.0335\n",
            "Epoch 3/5\n",
            "147/147 [==============================] - 13s 86ms/step - loss: 1.4315 - accuracy: 0.7335 - val_loss: 4.6268 - val_accuracy: 0.1260\n",
            "Epoch 4/5\n",
            "147/147 [==============================] - 13s 86ms/step - loss: 1.2016 - accuracy: 0.7668 - val_loss: 3.5310 - val_accuracy: 0.1694\n",
            "Epoch 5/5\n",
            "147/147 [==============================] - 13s 86ms/step - loss: 1.0919 - accuracy: 0.7942 - val_loss: 1.4796 - val_accuracy: 0.6064\n",
            "=============================================================================\n",
            "{'optimizer': 'RMSprop', 'kernel_initializer': 'uniform', 'activation': 'linear'}\n",
            "Epoch 1/5\n",
            "147/147 [==============================] - 14s 88ms/step - loss: 3.0962 - accuracy: 0.4822 - val_loss: 4.9380 - val_accuracy: 0.0672\n",
            "Epoch 2/5\n",
            "147/147 [==============================] - 13s 87ms/step - loss: 1.4826 - accuracy: 0.7053 - val_loss: 5.8355 - val_accuracy: 0.0372\n",
            "Epoch 3/5\n",
            "147/147 [==============================] - 13s 86ms/step - loss: 1.2015 - accuracy: 0.7602 - val_loss: 5.4641 - val_accuracy: 0.1225\n",
            "Epoch 4/5\n",
            "147/147 [==============================] - 13s 87ms/step - loss: 1.0765 - accuracy: 0.7988 - val_loss: 2.9012 - val_accuracy: 0.2860\n",
            "Epoch 5/5\n",
            "147/147 [==============================] - 13s 86ms/step - loss: 0.9930 - accuracy: 0.8155 - val_loss: 1.1862 - val_accuracy: 0.7510\n",
            "=============================================================================\n",
            "{'optimizer': 'RMSprop', 'kernel_initializer': 'normal', 'activation': 'tanh'}\n",
            "Epoch 1/5\n",
            "147/147 [==============================] - 16s 94ms/step - loss: 6.7403 - accuracy: 0.3341 - val_loss: 6.8143 - val_accuracy: 0.0573\n",
            "Epoch 2/5\n",
            "147/147 [==============================] - 14s 92ms/step - loss: 2.6235 - accuracy: 0.6126 - val_loss: 6.0678 - val_accuracy: 0.0399\n",
            "Epoch 3/5\n",
            "147/147 [==============================] - 14s 93ms/step - loss: 1.6312 - accuracy: 0.7038 - val_loss: 5.5579 - val_accuracy: 0.0585\n",
            "Epoch 4/5\n",
            "147/147 [==============================] - 14s 93ms/step - loss: 1.3163 - accuracy: 0.7503 - val_loss: 4.5496 - val_accuracy: 0.1567\n",
            "Epoch 5/5\n",
            "147/147 [==============================] - 14s 93ms/step - loss: 1.1741 - accuracy: 0.7777 - val_loss: 3.9892 - val_accuracy: 0.2168\n",
            "=============================================================================\n",
            "{'optimizer': 'RMSprop', 'kernel_initializer': 'uniform', 'activation': 'tanh'}\n",
            "Epoch 1/5\n",
            "147/147 [==============================] - 15s 94ms/step - loss: 3.2448 - accuracy: 0.4578 - val_loss: 5.2641 - val_accuracy: 0.0352\n",
            "Epoch 2/5\n",
            "147/147 [==============================] - 14s 92ms/step - loss: 1.5378 - accuracy: 0.7024 - val_loss: 7.3083 - val_accuracy: 0.0352\n",
            "Epoch 3/5\n",
            "147/147 [==============================] - 14s 93ms/step - loss: 1.2381 - accuracy: 0.7480 - val_loss: 7.8672 - val_accuracy: 0.0352\n",
            "Epoch 4/5\n",
            "147/147 [==============================] - 13s 92ms/step - loss: 1.1052 - accuracy: 0.7809 - val_loss: 5.3864 - val_accuracy: 0.1022\n",
            "Epoch 5/5\n",
            "147/147 [==============================] - 14s 92ms/step - loss: 1.0382 - accuracy: 0.8044 - val_loss: 2.3982 - val_accuracy: 0.4169\n",
            "=============================================================================\n",
            "{'optimizer': 'Adam', 'kernel_initializer': 'normal', 'activation': 'relu'}\n",
            "Epoch 1/5\n",
            "147/147 [==============================] - 15s 92ms/step - loss: 7.5153 - accuracy: 0.2901 - val_loss: 7.1872 - val_accuracy: 0.0325\n",
            "Epoch 2/5\n",
            "147/147 [==============================] - 13s 90ms/step - loss: 2.8301 - accuracy: 0.6590 - val_loss: 5.4949 - val_accuracy: 0.0325\n",
            "Epoch 3/5\n",
            "147/147 [==============================] - 13s 89ms/step - loss: 1.5396 - accuracy: 0.7746 - val_loss: 5.4603 - val_accuracy: 0.0350\n",
            "Epoch 4/5\n",
            "147/147 [==============================] - 13s 90ms/step - loss: 1.1875 - accuracy: 0.8248 - val_loss: 4.4901 - val_accuracy: 0.0995\n",
            "Epoch 5/5\n",
            "147/147 [==============================] - 13s 90ms/step - loss: 1.0499 - accuracy: 0.8455 - val_loss: 1.4821 - val_accuracy: 0.6947\n",
            "=============================================================================\n",
            "{'optimizer': 'Adam', 'kernel_initializer': 'uniform', 'activation': 'relu'}\n",
            "Epoch 1/5\n",
            "147/147 [==============================] - 14s 92ms/step - loss: 3.8823 - accuracy: 0.3544 - val_loss: 4.7346 - val_accuracy: 0.0315\n",
            "Epoch 2/5\n",
            "147/147 [==============================] - 13s 90ms/step - loss: 1.6768 - accuracy: 0.7062 - val_loss: 5.5497 - val_accuracy: 0.0370\n",
            "Epoch 3/5\n",
            "147/147 [==============================] - 13s 90ms/step - loss: 1.2227 - accuracy: 0.7980 - val_loss: 7.2482 - val_accuracy: 0.0543\n",
            "Epoch 4/5\n",
            "147/147 [==============================] - 13s 90ms/step - loss: 1.0285 - accuracy: 0.8501 - val_loss: 5.6243 - val_accuracy: 0.0523\n",
            "Epoch 5/5\n",
            "147/147 [==============================] - 13s 90ms/step - loss: 0.9500 - accuracy: 0.8610 - val_loss: 1.7348 - val_accuracy: 0.5831\n",
            "=============================================================================\n",
            "{'optimizer': 'Adam', 'kernel_initializer': 'normal', 'activation': 'linear'}\n",
            "Epoch 1/5\n",
            "147/147 [==============================] - 14s 88ms/step - loss: 6.1946 - accuracy: 0.4022 - val_loss: 6.1779 - val_accuracy: 0.0370\n",
            "Epoch 2/5\n",
            "147/147 [==============================] - 13s 87ms/step - loss: 2.0967 - accuracy: 0.6685 - val_loss: 5.8929 - val_accuracy: 0.0439\n",
            "Epoch 3/5\n",
            "147/147 [==============================] - 13s 87ms/step - loss: 1.4074 - accuracy: 0.7364 - val_loss: 6.5131 - val_accuracy: 0.1225\n",
            "Epoch 4/5\n",
            "147/147 [==============================] - 13s 87ms/step - loss: 1.1992 - accuracy: 0.7789 - val_loss: 2.8690 - val_accuracy: 0.2602\n",
            "Epoch 5/5\n",
            "147/147 [==============================] - 13s 87ms/step - loss: 1.0985 - accuracy: 0.8055 - val_loss: 1.9052 - val_accuracy: 0.5345\n",
            "=============================================================================\n",
            "{'optimizer': 'Adam', 'kernel_initializer': 'uniform', 'activation': 'linear'}\n",
            "Epoch 1/5\n",
            "147/147 [==============================] - 14s 88ms/step - loss: 3.2951 - accuracy: 0.4556 - val_loss: 4.9958 - val_accuracy: 0.0325\n",
            "Epoch 2/5\n",
            "147/147 [==============================] - 13s 87ms/step - loss: 1.5053 - accuracy: 0.7089 - val_loss: 8.5029 - val_accuracy: 0.0593\n",
            "Epoch 3/5\n",
            "147/147 [==============================] - 13s 87ms/step - loss: 1.1964 - accuracy: 0.7664 - val_loss: 5.4392 - val_accuracy: 0.1285\n",
            "Epoch 4/5\n",
            "147/147 [==============================] - 13s 87ms/step - loss: 1.0785 - accuracy: 0.8000 - val_loss: 3.2210 - val_accuracy: 0.2562\n",
            "Epoch 5/5\n",
            "147/147 [==============================] - 13s 87ms/step - loss: 1.0064 - accuracy: 0.8233 - val_loss: 2.8398 - val_accuracy: 0.3232\n",
            "=============================================================================\n",
            "{'optimizer': 'Adam', 'kernel_initializer': 'normal', 'activation': 'tanh'}\n",
            "Epoch 1/5\n",
            "147/147 [==============================] - 15s 93ms/step - loss: 7.1054 - accuracy: 0.2917 - val_loss: 6.6536 - val_accuracy: 0.0352\n",
            "Epoch 2/5\n",
            "147/147 [==============================] - 14s 92ms/step - loss: 2.6823 - accuracy: 0.6008 - val_loss: 7.4147 - val_accuracy: 0.0352\n",
            "Epoch 3/5\n",
            "147/147 [==============================] - 14s 92ms/step - loss: 1.6362 - accuracy: 0.6902 - val_loss: 7.1887 - val_accuracy: 0.0352\n",
            "Epoch 4/5\n",
            "147/147 [==============================] - 14s 92ms/step - loss: 1.3369 - accuracy: 0.7410 - val_loss: 6.5796 - val_accuracy: 0.0506\n",
            "Epoch 5/5\n",
            "147/147 [==============================] - 14s 92ms/step - loss: 1.1949 - accuracy: 0.7717 - val_loss: 5.2106 - val_accuracy: 0.1002\n",
            "=============================================================================\n",
            "{'optimizer': 'Adam', 'kernel_initializer': 'uniform', 'activation': 'tanh'}\n",
            "Epoch 1/5\n",
            "147/147 [==============================] - 15s 93ms/step - loss: 3.4795 - accuracy: 0.4202 - val_loss: 5.8174 - val_accuracy: 0.0352\n",
            "Epoch 2/5\n",
            "147/147 [==============================] - 14s 92ms/step - loss: 1.5874 - accuracy: 0.6789 - val_loss: 7.0955 - val_accuracy: 0.0352\n",
            "Epoch 3/5\n",
            "147/147 [==============================] - 13s 91ms/step - loss: 1.2546 - accuracy: 0.7544 - val_loss: 7.5408 - val_accuracy: 0.0352\n",
            "Epoch 4/5\n",
            "147/147 [==============================] - 13s 91ms/step - loss: 1.1156 - accuracy: 0.7935 - val_loss: 3.8353 - val_accuracy: 0.1694\n",
            "Epoch 5/5\n",
            "147/147 [==============================] - 13s 92ms/step - loss: 1.0470 - accuracy: 0.8118 - val_loss: 2.8220 - val_accuracy: 0.3428\n",
            "=============================================================================\n",
            "{'optimizer': 'Adagrad', 'kernel_initializer': 'normal', 'activation': 'relu'}\n",
            "Epoch 1/5\n",
            "147/147 [==============================] - 14s 92ms/step - loss: 11.6565 - accuracy: 0.0443 - val_loss: 11.5130 - val_accuracy: 0.0489\n",
            "Epoch 2/5\n",
            "147/147 [==============================] - 13s 91ms/step - loss: 11.3923 - accuracy: 0.0619 - val_loss: 11.4231 - val_accuracy: 0.0325\n",
            "Epoch 3/5\n",
            "147/147 [==============================] - 13s 91ms/step - loss: 11.1499 - accuracy: 0.0871 - val_loss: 11.2459 - val_accuracy: 0.0325\n",
            "Epoch 4/5\n",
            "147/147 [==============================] - 13s 91ms/step - loss: 10.9421 - accuracy: 0.0946 - val_loss: 10.9692 - val_accuracy: 0.0427\n",
            "Epoch 5/5\n",
            "147/147 [==============================] - 13s 91ms/step - loss: 10.7382 - accuracy: 0.1197 - val_loss: 10.6534 - val_accuracy: 0.1188\n",
            "=============================================================================\n",
            "{'optimizer': 'Adagrad', 'kernel_initializer': 'uniform', 'activation': 'relu'}\n",
            "Epoch 1/5\n",
            "147/147 [==============================] - 14s 92ms/step - loss: 6.0854 - accuracy: 0.0506 - val_loss: 6.0509 - val_accuracy: 0.0332\n",
            "Epoch 2/5\n",
            "147/147 [==============================] - 13s 90ms/step - loss: 5.9282 - accuracy: 0.0818 - val_loss: 6.0192 - val_accuracy: 0.0342\n",
            "Epoch 3/5\n",
            "147/147 [==============================] - 13s 91ms/step - loss: 5.7820 - accuracy: 0.1171 - val_loss: 5.9519 - val_accuracy: 0.0598\n",
            "Epoch 4/5\n",
            "147/147 [==============================] - 13s 91ms/step - loss: 5.6167 - accuracy: 0.1574 - val_loss: 5.7444 - val_accuracy: 0.0987\n",
            "Epoch 5/5\n",
            "147/147 [==============================] - 13s 91ms/step - loss: 5.4687 - accuracy: 0.1873 - val_loss: 5.4631 - val_accuracy: 0.1627\n",
            "=============================================================================\n",
            "{'optimizer': 'Adagrad', 'kernel_initializer': 'normal', 'activation': 'linear'}\n",
            "Epoch 1/5\n",
            "147/147 [==============================] - 14s 90ms/step - loss: 11.6236 - accuracy: 0.0493 - val_loss: 11.5374 - val_accuracy: 0.0352\n",
            "Epoch 2/5\n",
            "147/147 [==============================] - 13s 87ms/step - loss: 11.2670 - accuracy: 0.0892 - val_loss: 11.4405 - val_accuracy: 0.0325\n",
            "Epoch 3/5\n",
            "147/147 [==============================] - 13s 87ms/step - loss: 10.9743 - accuracy: 0.1249 - val_loss: 11.1738 - val_accuracy: 0.0377\n",
            "Epoch 4/5\n",
            "147/147 [==============================] - 13s 87ms/step - loss: 10.7313 - accuracy: 0.1532 - val_loss: 10.7212 - val_accuracy: 0.1228\n",
            "Epoch 5/5\n",
            "147/147 [==============================] - 13s 87ms/step - loss: 10.4838 - accuracy: 0.1676 - val_loss: 10.3316 - val_accuracy: 0.2297\n",
            "=============================================================================\n",
            "{'optimizer': 'Adagrad', 'kernel_initializer': 'uniform', 'activation': 'linear'}\n",
            "Epoch 1/5\n",
            "147/147 [==============================] - 14s 88ms/step - loss: 6.0106 - accuracy: 0.0717 - val_loss: 6.0655 - val_accuracy: 0.0332\n",
            "Epoch 2/5\n",
            "147/147 [==============================] - 13s 87ms/step - loss: 5.7435 - accuracy: 0.1426 - val_loss: 6.1182 - val_accuracy: 0.0335\n",
            "Epoch 3/5\n",
            "147/147 [==============================] - 13s 86ms/step - loss: 5.5153 - accuracy: 0.1913 - val_loss: 6.0348 - val_accuracy: 0.0635\n",
            "Epoch 4/5\n",
            "147/147 [==============================] - 13s 86ms/step - loss: 5.3239 - accuracy: 0.2297 - val_loss: 5.6426 - val_accuracy: 0.0925\n",
            "Epoch 5/5\n",
            "147/147 [==============================] - 13s 86ms/step - loss: 5.1546 - accuracy: 0.2570 - val_loss: 5.1881 - val_accuracy: 0.2505\n",
            "=============================================================================\n",
            "{'optimizer': 'Adagrad', 'kernel_initializer': 'normal', 'activation': 'tanh'}\n",
            "Epoch 1/5\n",
            "147/147 [==============================] - 15s 93ms/step - loss: 11.6662 - accuracy: 0.0423 - val_loss: 11.4816 - val_accuracy: 0.0794\n",
            "Epoch 2/5\n",
            "147/147 [==============================] - 13s 91ms/step - loss: 11.3796 - accuracy: 0.0715 - val_loss: 11.2176 - val_accuracy: 0.0933\n",
            "Epoch 3/5\n",
            "147/147 [==============================] - 13s 92ms/step - loss: 11.1338 - accuracy: 0.0943 - val_loss: 10.8045 - val_accuracy: 0.1771\n",
            "Epoch 4/5\n",
            "147/147 [==============================] - 13s 92ms/step - loss: 10.9025 - accuracy: 0.1136 - val_loss: 10.4469 - val_accuracy: 0.2237\n",
            "Epoch 5/5\n",
            "147/147 [==============================] - 13s 92ms/step - loss: 10.6824 - accuracy: 0.1325 - val_loss: 10.2045 - val_accuracy: 0.2488\n",
            "=============================================================================\n",
            "{'optimizer': 'Adagrad', 'kernel_initializer': 'uniform', 'activation': 'tanh'}\n",
            "Epoch 1/5\n",
            "147/147 [==============================] - 15s 93ms/step - loss: 6.0130 - accuracy: 0.0664 - val_loss: 6.0754 - val_accuracy: 0.0429\n",
            "Epoch 2/5\n",
            "147/147 [==============================] - 13s 91ms/step - loss: 5.7642 - accuracy: 0.1348 - val_loss: 6.1681 - val_accuracy: 0.0486\n",
            "Epoch 3/5\n",
            "147/147 [==============================] - 13s 91ms/step - loss: 5.5552 - accuracy: 0.1844 - val_loss: 5.9608 - val_accuracy: 0.0714\n",
            "Epoch 4/5\n",
            "147/147 [==============================] - 13s 91ms/step - loss: 5.3741 - accuracy: 0.2115 - val_loss: 5.3635 - val_accuracy: 0.1796\n",
            "Epoch 5/5\n",
            "147/147 [==============================] - 13s 92ms/step - loss: 5.2087 - accuracy: 0.2431 - val_loss: 4.9771 - val_accuracy: 0.3063\n",
            "=============================================================================\n",
            "{'optimizer': 'Nadam', 'kernel_initializer': 'normal', 'activation': 'relu'}\n",
            "Epoch 1/5\n",
            "147/147 [==============================] - 16s 95ms/step - loss: 7.7606 - accuracy: 0.2753 - val_loss: 6.9556 - val_accuracy: 0.0332\n",
            "Epoch 2/5\n",
            "147/147 [==============================] - 14s 94ms/step - loss: 3.0379 - accuracy: 0.6356 - val_loss: 5.2622 - val_accuracy: 0.0625\n",
            "Epoch 3/5\n",
            "147/147 [==============================] - 14s 94ms/step - loss: 1.6419 - accuracy: 0.7661 - val_loss: 5.4002 - val_accuracy: 0.0370\n",
            "Epoch 4/5\n",
            "147/147 [==============================] - 14s 93ms/step - loss: 1.2341 - accuracy: 0.8123 - val_loss: 3.3660 - val_accuracy: 0.1763\n",
            "Epoch 5/5\n",
            "147/147 [==============================] - 14s 94ms/step - loss: 1.0810 - accuracy: 0.8435 - val_loss: 1.4180 - val_accuracy: 0.7046\n",
            "=============================================================================\n",
            "{'optimizer': 'Nadam', 'kernel_initializer': 'uniform', 'activation': 'relu'}\n",
            "Epoch 1/5\n",
            "147/147 [==============================] - 16s 95ms/step - loss: 3.9100 - accuracy: 0.3804 - val_loss: 4.6056 - val_accuracy: 0.0332\n",
            "Epoch 2/5\n",
            "147/147 [==============================] - 14s 93ms/step - loss: 1.6342 - accuracy: 0.7438 - val_loss: 4.9924 - val_accuracy: 0.0325\n",
            "Epoch 3/5\n",
            "147/147 [==============================] - 14s 94ms/step - loss: 1.1661 - accuracy: 0.8175 - val_loss: 5.2799 - val_accuracy: 0.0496\n",
            "Epoch 4/5\n",
            "147/147 [==============================] - 14s 94ms/step - loss: 1.0016 - accuracy: 0.8520 - val_loss: 2.6430 - val_accuracy: 0.3611\n",
            "Epoch 5/5\n",
            "147/147 [==============================] - 14s 94ms/step - loss: 0.9276 - accuracy: 0.8689 - val_loss: 1.5217 - val_accuracy: 0.6634\n",
            "=============================================================================\n",
            "{'optimizer': 'Nadam', 'kernel_initializer': 'normal', 'activation': 'linear'}\n",
            "Epoch 1/5\n",
            "147/147 [==============================] - 16s 92ms/step - loss: 6.5312 - accuracy: 0.3768 - val_loss: 6.2189 - val_accuracy: 0.0665\n",
            "Epoch 2/5\n",
            "147/147 [==============================] - 13s 90ms/step - loss: 2.2662 - accuracy: 0.6535 - val_loss: 5.8990 - val_accuracy: 0.0732\n",
            "Epoch 3/5\n",
            "147/147 [==============================] - 13s 90ms/step - loss: 1.4443 - accuracy: 0.7375 - val_loss: 4.2471 - val_accuracy: 0.2118\n",
            "Epoch 4/5\n",
            "147/147 [==============================] - 13s 90ms/step - loss: 1.1912 - accuracy: 0.7815 - val_loss: 4.3151 - val_accuracy: 0.2158\n",
            "Epoch 5/5\n",
            "147/147 [==============================] - 13s 90ms/step - loss: 1.0771 - accuracy: 0.8058 - val_loss: 1.2338 - val_accuracy: 0.7408\n",
            "=============================================================================\n",
            "{'optimizer': 'Nadam', 'kernel_initializer': 'uniform', 'activation': 'linear'}\n",
            "Epoch 1/5\n",
            "147/147 [==============================] - 16s 92ms/step - loss: 3.3220 - accuracy: 0.4712 - val_loss: 5.5329 - val_accuracy: 0.0325\n",
            "Epoch 2/5\n",
            "147/147 [==============================] - 13s 90ms/step - loss: 1.4911 - accuracy: 0.7166 - val_loss: 6.8780 - val_accuracy: 0.0652\n",
            "Epoch 3/5\n",
            "147/147 [==============================] - 13s 90ms/step - loss: 1.1673 - accuracy: 0.7826 - val_loss: 9.6348 - val_accuracy: 0.1173\n",
            "Epoch 4/5\n",
            "147/147 [==============================] - 13s 91ms/step - loss: 1.0497 - accuracy: 0.8078 - val_loss: 5.8491 - val_accuracy: 0.1156\n",
            "Epoch 5/5\n",
            "147/147 [==============================] - 13s 91ms/step - loss: 0.9715 - accuracy: 0.8293 - val_loss: 1.7145 - val_accuracy: 0.5377\n",
            "=============================================================================\n",
            "{'optimizer': 'Nadam', 'kernel_initializer': 'normal', 'activation': 'tanh'}\n",
            "Epoch 1/5\n",
            "147/147 [==============================] - 17s 97ms/step - loss: 7.3222 - accuracy: 0.3058 - val_loss: 6.5791 - val_accuracy: 0.1181\n",
            "Epoch 2/5\n",
            "147/147 [==============================] - 14s 96ms/step - loss: 2.8077 - accuracy: 0.6030 - val_loss: 6.4459 - val_accuracy: 0.0471\n",
            "Epoch 3/5\n",
            "147/147 [==============================] - 14s 97ms/step - loss: 1.6896 - accuracy: 0.7048 - val_loss: 6.6796 - val_accuracy: 0.0533\n",
            "Epoch 4/5\n",
            "147/147 [==============================] - 14s 96ms/step - loss: 1.3388 - accuracy: 0.7524 - val_loss: 6.0534 - val_accuracy: 0.0848\n",
            "Epoch 5/5\n",
            "147/147 [==============================] - 14s 96ms/step - loss: 1.1865 - accuracy: 0.7783 - val_loss: 3.5279 - val_accuracy: 0.2552\n",
            "=============================================================================\n",
            "{'optimizer': 'Nadam', 'kernel_initializer': 'uniform', 'activation': 'tanh'}\n",
            "Epoch 1/5\n",
            "147/147 [==============================] - 16s 97ms/step - loss: 3.5408 - accuracy: 0.4193 - val_loss: 5.0708 - val_accuracy: 0.0417\n",
            "Epoch 2/5\n",
            "147/147 [==============================] - 14s 96ms/step - loss: 1.5874 - accuracy: 0.6943 - val_loss: 6.5589 - val_accuracy: 0.0627\n",
            "Epoch 3/5\n",
            "147/147 [==============================] - 14s 96ms/step - loss: 1.2314 - accuracy: 0.7640 - val_loss: 6.7098 - val_accuracy: 0.0766\n",
            "Epoch 4/5\n",
            "147/147 [==============================] - 14s 95ms/step - loss: 1.1019 - accuracy: 0.7900 - val_loss: 4.7821 - val_accuracy: 0.1570\n",
            "Epoch 5/5\n",
            "147/147 [==============================] - 14s 95ms/step - loss: 1.0232 - accuracy: 0.8196 - val_loss: 2.7782 - val_accuracy: 0.3976\n",
            "=============================================================================\n"
          ]
        }
      ]
    },
    {
      "cell_type": "markdown",
      "metadata": {
        "id": "SVqu1J7VeQvS"
      },
      "source": [
        "10- After looping through all the combinations it was found that the best combination is:\n",
        "\n",
        " [RMS Prop, Normal Initialization, Relu Activation]\n",
        "\n",
        " Then lets use them to build our final model."
      ]
    },
    {
      "cell_type": "code",
      "metadata": {
        "id": "TQ61tTgthNX3"
      },
      "source": [
        "model = create_model(optimizer='RMSprop',                                       # We create our model with the specified hyper parameters\n",
        "                     kernel_initializer='normal',\n",
        "                     activation='relu')"
      ],
      "execution_count": 52,
      "outputs": []
    },
    {
      "cell_type": "code",
      "metadata": {
        "colab": {
          "base_uri": "https://localhost:8080/"
        },
        "id": "VU8nilxQWjhp",
        "outputId": "8e7b57c3-f15a-4ae0-8b9b-96018dbc8852"
      },
      "source": [
        "from keras.callbacks import ModelCheckpoint                                     # We will import a call back to save the best epoch's weights\n",
        "\n",
        "checkpointer = ModelCheckpoint(filepath='weights.hdf5', verbose=1, save_best_only=True)\n",
        "history = model.fit(train_x,                                                    \n",
        "                    train_y, \n",
        "                    validation_split= 0.3,                                      # The model will split the data into 30% of validation.\n",
        "                    epochs=30,                                                  # We will run the model for 30 epochs\n",
        "                    batch_size=64,                                              # We will have a batch size of 64\n",
        "                    callbacks=[checkpointer])                                   # Finally we will use the imported callback"
      ],
      "execution_count": 54,
      "outputs": [
        {
          "output_type": "stream",
          "name": "stdout",
          "text": [
            "Epoch 1/30\n",
            "147/147 [==============================] - 23s 156ms/step - loss: 2.5368 - accuracy: 0.5354 - val_loss: 4.4422 - val_accuracy: 0.0357\n",
            "\n",
            "Epoch 00001: val_loss improved from inf to 4.44219, saving model to weights.hdf5\n",
            "Epoch 2/30\n",
            "147/147 [==============================] - 23s 155ms/step - loss: 1.1869 - accuracy: 0.8050 - val_loss: 4.5659 - val_accuracy: 0.0357\n",
            "\n",
            "Epoch 00002: val_loss did not improve from 4.44219\n",
            "Epoch 3/30\n",
            "147/147 [==============================] - 23s 155ms/step - loss: 0.6753 - accuracy: 0.8866 - val_loss: 2.8348 - val_accuracy: 0.1022\n",
            "\n",
            "Epoch 00003: val_loss improved from 4.44219 to 2.83476, saving model to weights.hdf5\n",
            "Epoch 4/30\n",
            "147/147 [==============================] - 23s 154ms/step - loss: 0.4707 - accuracy: 0.9139 - val_loss: 0.7733 - val_accuracy: 0.8591\n",
            "\n",
            "Epoch 00004: val_loss improved from 2.83476 to 0.77327, saving model to weights.hdf5\n",
            "Epoch 5/30\n",
            "147/147 [==============================] - 23s 154ms/step - loss: 0.3747 - accuracy: 0.9307 - val_loss: 0.4462 - val_accuracy: 0.9080\n",
            "\n",
            "Epoch 00005: val_loss improved from 0.77327 to 0.44622, saving model to weights.hdf5\n",
            "Epoch 6/30\n",
            "147/147 [==============================] - 23s 154ms/step - loss: 0.3263 - accuracy: 0.9363 - val_loss: 0.3312 - val_accuracy: 0.9335\n",
            "\n",
            "Epoch 00006: val_loss improved from 0.44622 to 0.33118, saving model to weights.hdf5\n",
            "Epoch 7/30\n",
            "147/147 [==============================] - 23s 154ms/step - loss: 0.2951 - accuracy: 0.9435 - val_loss: 0.3951 - val_accuracy: 0.9062\n",
            "\n",
            "Epoch 00007: val_loss did not improve from 0.33118\n",
            "Epoch 8/30\n",
            "147/147 [==============================] - 23s 154ms/step - loss: 0.2746 - accuracy: 0.9483 - val_loss: 0.3151 - val_accuracy: 0.9345\n",
            "\n",
            "Epoch 00008: val_loss improved from 0.33118 to 0.31513, saving model to weights.hdf5\n",
            "Epoch 9/30\n",
            "147/147 [==============================] - 23s 155ms/step - loss: 0.2552 - accuracy: 0.9518 - val_loss: 0.3353 - val_accuracy: 0.9330\n",
            "\n",
            "Epoch 00009: val_loss did not improve from 0.31513\n",
            "Epoch 10/30\n",
            "147/147 [==============================] - 23s 155ms/step - loss: 0.2451 - accuracy: 0.9545 - val_loss: 0.3488 - val_accuracy: 0.9182\n",
            "\n",
            "Epoch 00010: val_loss did not improve from 0.31513\n",
            "Epoch 11/30\n",
            "147/147 [==============================] - 23s 155ms/step - loss: 0.2355 - accuracy: 0.9551 - val_loss: 0.3688 - val_accuracy: 0.9115\n",
            "\n",
            "Epoch 00011: val_loss did not improve from 0.31513\n",
            "Epoch 12/30\n",
            "147/147 [==============================] - 23s 155ms/step - loss: 0.2222 - accuracy: 0.9572 - val_loss: 0.4534 - val_accuracy: 0.8782\n",
            "\n",
            "Epoch 00012: val_loss did not improve from 0.31513\n",
            "Epoch 13/30\n",
            "147/147 [==============================] - 23s 155ms/step - loss: 0.2108 - accuracy: 0.9632 - val_loss: 0.4501 - val_accuracy: 0.8929\n",
            "\n",
            "Epoch 00013: val_loss did not improve from 0.31513\n",
            "Epoch 14/30\n",
            "147/147 [==============================] - 23s 155ms/step - loss: 0.2042 - accuracy: 0.9618 - val_loss: 0.2826 - val_accuracy: 0.9392\n",
            "\n",
            "Epoch 00014: val_loss improved from 0.31513 to 0.28263, saving model to weights.hdf5\n",
            "Epoch 15/30\n",
            "147/147 [==============================] - 23s 154ms/step - loss: 0.1968 - accuracy: 0.9674 - val_loss: 0.2939 - val_accuracy: 0.9377\n",
            "\n",
            "Epoch 00015: val_loss did not improve from 0.28263\n",
            "Epoch 16/30\n",
            "147/147 [==============================] - 23s 154ms/step - loss: 0.1976 - accuracy: 0.9662 - val_loss: 0.3206 - val_accuracy: 0.9343\n",
            "\n",
            "Epoch 00016: val_loss did not improve from 0.28263\n",
            "Epoch 17/30\n",
            "147/147 [==============================] - 23s 154ms/step - loss: 0.1928 - accuracy: 0.9644 - val_loss: 0.2685 - val_accuracy: 0.9501\n",
            "\n",
            "Epoch 00017: val_loss improved from 0.28263 to 0.26855, saving model to weights.hdf5\n",
            "Epoch 18/30\n",
            "147/147 [==============================] - 23s 154ms/step - loss: 0.1858 - accuracy: 0.9670 - val_loss: 0.4270 - val_accuracy: 0.8807\n",
            "\n",
            "Epoch 00018: val_loss did not improve from 0.26855\n",
            "Epoch 19/30\n",
            "147/147 [==============================] - 23s 155ms/step - loss: 0.1823 - accuracy: 0.9677 - val_loss: 0.3120 - val_accuracy: 0.9303\n",
            "\n",
            "Epoch 00019: val_loss did not improve from 0.26855\n",
            "Epoch 20/30\n",
            "147/147 [==============================] - 23s 155ms/step - loss: 0.1877 - accuracy: 0.9664 - val_loss: 0.2955 - val_accuracy: 0.9400\n",
            "\n",
            "Epoch 00020: val_loss did not improve from 0.26855\n",
            "Epoch 21/30\n",
            "147/147 [==============================] - 23s 154ms/step - loss: 0.1751 - accuracy: 0.9685 - val_loss: 0.2768 - val_accuracy: 0.9457\n",
            "\n",
            "Epoch 00021: val_loss did not improve from 0.26855\n",
            "Epoch 22/30\n",
            "147/147 [==============================] - 23s 154ms/step - loss: 0.1708 - accuracy: 0.9709 - val_loss: 0.2553 - val_accuracy: 0.9492\n",
            "\n",
            "Epoch 00022: val_loss improved from 0.26855 to 0.25532, saving model to weights.hdf5\n",
            "Epoch 23/30\n",
            "147/147 [==============================] - 23s 154ms/step - loss: 0.1606 - accuracy: 0.9727 - val_loss: 0.2791 - val_accuracy: 0.9407\n",
            "\n",
            "Epoch 00023: val_loss did not improve from 0.25532\n",
            "Epoch 24/30\n",
            "147/147 [==============================] - 23s 154ms/step - loss: 0.1634 - accuracy: 0.9728 - val_loss: 0.2950 - val_accuracy: 0.9425\n",
            "\n",
            "Epoch 00024: val_loss did not improve from 0.25532\n",
            "Epoch 25/30\n",
            "147/147 [==============================] - 23s 155ms/step - loss: 0.1641 - accuracy: 0.9724 - val_loss: 0.3038 - val_accuracy: 0.9286\n",
            "\n",
            "Epoch 00025: val_loss did not improve from 0.25532\n",
            "Epoch 26/30\n",
            "147/147 [==============================] - 23s 155ms/step - loss: 0.1593 - accuracy: 0.9750 - val_loss: 0.2989 - val_accuracy: 0.9412\n",
            "\n",
            "Epoch 00026: val_loss did not improve from 0.25532\n",
            "Epoch 27/30\n",
            "147/147 [==============================] - 23s 155ms/step - loss: 0.1544 - accuracy: 0.9752 - val_loss: 0.3076 - val_accuracy: 0.9387\n",
            "\n",
            "Epoch 00027: val_loss did not improve from 0.25532\n",
            "Epoch 28/30\n",
            "147/147 [==============================] - 23s 154ms/step - loss: 0.1545 - accuracy: 0.9760 - val_loss: 0.2898 - val_accuracy: 0.9410\n",
            "\n",
            "Epoch 00028: val_loss did not improve from 0.25532\n",
            "Epoch 29/30\n",
            "147/147 [==============================] - 23s 154ms/step - loss: 0.1538 - accuracy: 0.9727 - val_loss: 0.3202 - val_accuracy: 0.9288\n",
            "\n",
            "Epoch 00029: val_loss did not improve from 0.25532\n",
            "Epoch 30/30\n",
            "147/147 [==============================] - 23s 154ms/step - loss: 0.1533 - accuracy: 0.9733 - val_loss: 0.2729 - val_accuracy: 0.9464\n",
            "\n",
            "Epoch 00030: val_loss did not improve from 0.25532\n"
          ]
        }
      ]
    },
    {
      "cell_type": "markdown",
      "metadata": {
        "id": "0SVekRtfMnNv"
      },
      "source": [
        "11- Now lets load the best epoch's weights and then evaluate our model using the test set."
      ]
    },
    {
      "cell_type": "code",
      "metadata": {
        "colab": {
          "base_uri": "https://localhost:8080/"
        },
        "id": "JHbED-hWhqSL",
        "outputId": "bb2f5a21-a595-4e80-cc20-6bec95c60bee"
      },
      "source": [
        "model.load_weights('weights.hdf5')                                              # Loading the best weights        \n",
        "model.evaluate(test_x, test_y)                                                  # Evaluating our model"
      ],
      "execution_count": 55,
      "outputs": [
        {
          "output_type": "stream",
          "name": "stdout",
          "text": [
            "105/105 [==============================] - 2s 21ms/step - loss: 0.2200 - accuracy: 0.9634\n"
          ]
        },
        {
          "output_type": "execute_result",
          "data": {
            "text/plain": [
              "[0.21995072066783905, 0.9633928537368774]"
            ]
          },
          "metadata": {},
          "execution_count": 55
        }
      ]
    },
    {
      "cell_type": "markdown",
      "metadata": {
        "id": "yhqkkDkyM5IH"
      },
      "source": [
        "12- Lets plot our training journy to check the performance and verify that the model is not overfitting."
      ]
    },
    {
      "cell_type": "code",
      "metadata": {
        "colab": {
          "base_uri": "https://localhost:8080/",
          "height": 590
        },
        "id": "h9RYi7P3hmyr",
        "outputId": "fa95493f-7a46-4841-bb17-e46e918e9c4e"
      },
      "source": [
        "# PLOT LOSS AND ACCURACY\n",
        "%matplotlib inline\n",
        "\n",
        "import matplotlib.image  as mpimg\n",
        "import matplotlib.pyplot as plt\n",
        "\n",
        "#-----------------------------------------------------------\n",
        "# Retrieve a list of list results on training and test data\n",
        "# sets for each training epoch\n",
        "#-----------------------------------------------------------\n",
        "acc=history.history['accuracy']\n",
        "val_acc=history.history['val_accuracy']\n",
        "loss=history.history['loss']\n",
        "val_loss=history.history['val_loss']\n",
        "\n",
        "epochs=range(len(acc)) # Get number of epochs\n",
        "\n",
        "#------------------------------------------------\n",
        "# Plot training and validation accuracy per epoch\n",
        "#------------------------------------------------\n",
        "plt.plot(history.history['accuracy'])\n",
        "plt.plot(history.history['val_accuracy'])\n",
        "plt.title('Training and validation accuracy')\n",
        "plt.legend(['train', 'val'], loc='upper left')\n",
        "plt.ylabel('accuracy')\n",
        "plt.xlabel('epoch')\n",
        "plt.figure()\n",
        "\n",
        "#------------------------------------------------\n",
        "# Plot training and validation loss per epoch\n",
        "#------------------------------------------------\n",
        "plt.plot(history.history['loss'])\n",
        "plt.plot(history.history['val_loss'])\n",
        "plt.title('Training and validation loss')\n",
        "plt.legend(['train', 'val'], loc='upper left')\n",
        "plt.ylabel('accuracy')\n",
        "plt.xlabel('epoch')\n",
        "\n",
        "\n",
        "plt.title('Training and validation loss')\n"
      ],
      "execution_count": 56,
      "outputs": [
        {
          "output_type": "execute_result",
          "data": {
            "text/plain": [
              "Text(0.5, 1.0, 'Training and validation loss')"
            ]
          },
          "metadata": {},
          "execution_count": 56
        },
        {
          "output_type": "display_data",
          "data": {
            "image/png": "[encoded data removed]",
            "text/plain": [
              "<Figure size 432x288 with 1 Axes>"
            ]
          },
          "metadata": {
            "needs_background": "light"
          }
        },
        {
          "output_type": "display_data",
          "data": {
            "image/png": "[encoded data removed]",
            "text/plain": [
              "<Figure size 432x288 with 1 Axes>"
            ]
          },
          "metadata": {
            "needs_background": "light"
          }
        }
      ]
    },
    {
      "cell_type": "markdown",
      "metadata": {
        "id": "VT9JGH7_NIZ3"
      },
      "source": [
        "12- Lets save our model for later use"
      ]
    },
    {
      "cell_type": "code",
      "metadata": {
        "id": "3x0xPEg0VylP"
      },
      "source": [
        "model.save('/content/my_model/my_model.h5')"
      ],
      "execution_count": 59,
      "outputs": []
    },
    {
      "cell_type": "markdown",
      "metadata": {
        "id": "mAXt2eg3NVfH"
      },
      "source": [
        "##Testing Model"
      ]
    },
    {
      "cell_type": "markdown",
      "metadata": {
        "id": "3UibIHxwNaPf"
      },
      "source": [
        "Now lets load our model and test it on our custom images."
      ]
    },
    {
      "cell_type": "code",
      "metadata": {
        "colab": {
          "base_uri": "https://localhost:8080/"
        },
        "id": "DwQmSGXykYv2",
        "outputId": "90deba52-f107-4c5c-df40-8fcdcef0ba46"
      },
      "source": [
        "model = tf.keras.models.load_model('my_model/my_model.h5')                      # Now we load the model"
      ],
      "execution_count": 111,
      "outputs": [
        {
          "output_type": "stream",
          "name": "stdout",
          "text": [
            "105/105 [==============================] - 2s 12ms/step - loss: 0.4697 - accuracy: 0.9563\n"
          ]
        },
        {
          "output_type": "execute_result",
          "data": {
            "text/plain": [
              "[0.4696522355079651, 0.956250011920929]"
            ]
          },
          "metadata": {},
          "execution_count": 111
        }
      ]
    },
    {
      "cell_type": "markdown",
      "metadata": {
        "id": "H364GGx-NiY_"
      },
      "source": [
        "In the following function we mapped the categorical output with the Arabic letters to help us better identifing the classes."
      ]
    },
    {
      "cell_type": "code",
      "metadata": {
        "id": "w5hoxHnzoyxm"
      },
      "source": [
        "def convert_categorical_label_to_real_label(categorical_label):\n",
        "  real_labels = []\n",
        "  real_labels.extend(['أ', 'ب', 'ت', 'ث', 'ج', 'ح', 'خ', 'د', 'ذ', 'ر', 'ز', 'س', 'ش', 'ص', 'ض', 'ط', 'ظ', 'ع', 'غ', 'ف', 'ق', 'ك', 'ل', 'م', 'ن', 'ه', 'و', 'ى'])\n",
        "  return real_labels[categorical_label]"
      ],
      "execution_count": 60,
      "outputs": []
    },
    {
      "cell_type": "markdown",
      "metadata": {
        "id": "5eRBZtLtNtk_"
      },
      "source": [
        "Finally lets test them on custom images."
      ]
    },
    {
      "cell_type": "code",
      "metadata": {
        "colab": {
          "base_uri": "https://localhost:8080/",
          "height": 814
        },
        "id": "fehpVPCwpa7-",
        "outputId": "3bf92261-fb4d-46b9-fa1c-b9794706a0ac"
      },
      "source": [
        "for i in range(1, 4):\n",
        "  test = cv2.imread('z' + str(i) + '.png')\n",
        "  test = cv2.cvtColor(test, cv2.COLOR_BGR2GRAY)\n",
        "  test = cv2.resize(test, (32, 32))\n",
        "  plt.imshow(test, cmap='gray')\n",
        "  plt.show()\n",
        "  test = np.reshape(test, (-1, 32, 32, 1))\n",
        "  test = test.astype('float32')/255\n",
        "  print(convert_categorical_label_to_real_label(np.argmax(model.predict(test))))"
      ],
      "execution_count": 101,
      "outputs": [
        {
          "output_type": "display_data",
          "data": {
            "image/png": "[encoded data removed]",
            "text/plain": [
              "<Figure size 432x288 with 1 Axes>"
            ]
          },
          "metadata": {
            "needs_background": "light"
          }
        },
        {
          "output_type": "stream",
          "name": "stdout",
          "text": [
            "أ\n"
          ]
        },
        {
          "output_type": "display_data",
          "data": {
            "image/png": "[encoded data removed]",
            "text/plain": [
              "<Figure size 432x288 with 1 Axes>"
            ]
          },
          "metadata": {
            "needs_background": "light"
          }
        },
        {
          "output_type": "stream",
          "name": "stdout",
          "text": [
            "ظ\n"
          ]
        },
        {
          "output_type": "display_data",
          "data": {
            "image/png": "[encoded data removed]",
            "text/plain": [
              "<Figure size 432x288 with 1 Axes>"
            ]
          },
          "metadata": {
            "needs_background": "light"
          }
        },
        {
          "output_type": "stream",
          "name": "stdout",
          "text": [
            "م\n"
          ]
        }
      ]
    },
    {
      "cell_type": "markdown",
      "metadata": {
        "id": "RHLPVPpHRQz3"
      },
      "source": [
        "## Acknowledgments"
      ]
    },
    {
      "cell_type": "markdown",
      "metadata": {
        "id": "QRZbVLEYRli0"
      },
      "source": [
        "• Author: **Hossam Zaabl**\n",
        "\n",
        "https://github.com/zaabl\n",
        "\n",
        "• A. El-Sawy, M. Loey, and H. EL-Bakry, “Arabic handwritten characters recognition using convolutional neural network,” WSEAS Transactions on Computer Research, vol. 5, pp. 11–19, 2017.\n",
        "\n",
        "https://doi.org/10.1007/978-3-319-48308-5_54\n",
        "\n",
        "https://link.springer.com/chapter/10.1007/978-3-319-48308-5_54\n",
        "\n",
        "• A. El-Sawy, H. EL-Bakry, and M. Loey, “CNN for handwritten arabic digits recognition based on lenet-5,” in Proceedings of the International Conference on Advanced Intelligent Systems and Informatics 2016, vol. 533, pp. 566–575, Springer International Publishing, 2016.\n",
        "\n",
        "https://www.wseas.org/multimedia/journals/computerresearch/2017/a045818-075.php\n",
        "\n",
        "• Loey, Mohamed, Ahmed El-Sawy, and Hazem El-Bakry. \"Deep learning autoencoder approach for handwritten arabic digits recognition.\" arXiv preprint arXiv:1706.06720 (2017).\n",
        "https://arxiv.org/abs/1706.06720\n",
        "\n",
        "• Amr Hendy, Arabic Handwritten Image Recognition\n",
        "\n",
        "https://github.com/AmrHendy/Arabic-Handwritten-Images-Recognition"
      ]
    }
  ]
}